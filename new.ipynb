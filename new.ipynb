{
 "cells": [
  {
   "cell_type": "code",
   "execution_count": 3,
   "metadata": {},
   "outputs": [
    {
     "name": "stderr",
     "output_type": "stream",
     "text": [
      "c:\\Users\\HP\\anaconda3\\envs\\uqdl\\lib\\site-packages\\tqdm\\auto.py:22: TqdmWarning: IProgress not found. Please update jupyter and ipywidgets. See https://ipywidgets.readthedocs.io/en/stable/user_install.html\n",
      "  from .autonotebook import tqdm as notebook_tqdm\n"
     ]
    }
   ],
   "source": [
    "%load_ext autoreload\n",
    "%autoreload 2\n",
    "\n",
    "import fnmatch\n",
    "import os\n",
    "import random\n",
    "import shutil\n",
    "import string\n",
    "import time\n",
    "from abc import abstractmethod\n",
    "from collections import defaultdict\n",
    "from time import sleep\n",
    "\n",
    "import numpy as np\n",
    "from monai.transforms import AddChannel, Compose, Resize, ScaleIntensity, ToTensor\n",
    "from torch.utils.data import DataLoader, Dataset\n",
    "from datasets.numpydatasets import Numpy2dDataSet, Numpy3dDataSet\n",
    "from datasets.cyclegan import CycleGANDataset\n",
    "import torchvision.transforms as transforms\n",
    "\n",
    "\n",
    "def get_transforms_2d(target_size=128):\n",
    "    \"\"\"Returns a Transform which resizes 2D samples (1xHxW) to a target_size (1 x target_size x target_size)\n",
    "    and then converts them to a pytorch tensor.\n",
    "    Args:\n",
    "        target_size (int, optional): [New spatial dimension of the input data]. Defaults to 128.\n",
    "    Returns:\n",
    "        [Transform]\n",
    "    \"\"\"\n",
    "\n",
    "    transforms = Compose([Resize((target_size, target_size)), ToTensor()])\n",
    "    return transforms\n",
    "\n",
    "\n",
    "def get_transforms_3d(target_size=128):\n",
    "    \"\"\"Returns a Transform which resizes 3D samples (1xZxYxX) to a target_size (1 x target_size x target_size x target_size)\n",
    "    and then converts them to a pytorch tensor.\n",
    "    Args:\n",
    "        target_size (int, optional): [New spatial dimension of the input data]. Defaults to 128.\n",
    "    Returns:\n",
    "        [Transform]\n",
    "    \"\"\"\n",
    "    transforms = Compose([Resize((target_size, target_size, target_size)), ToTensor()])\n",
    "    return transforms\n",
    "\n",
    "\n",
    "def get_numpy2d_dataset(\n",
    "    base_dir,\n",
    "    mode=\"train\",\n",
    "    batch_size=16,\n",
    "    n_items=None,\n",
    "    pin_memory=False,\n",
    "    num_processes=1,\n",
    "    drop_last=False,\n",
    "    target_size=512,\n",
    "    file_pattern=\"*data.npy\",\n",
    "    do_reshuffle=True,\n",
    "    slice_offset=0,\n",
    "    caching=True,\n",
    "):\n",
    "    \"\"\"Returns a Pytorch data loader which loads a Numpy2dDataSet, i.e. 2D slices from a dir of 3D Numpy arrays.\n",
    "    Args:\n",
    "        base_dir ([str]): [Directory in which the npy files are.]\n",
    "        mode (str, optional): [train or val, loads the first 90% for train and 10% for val]. Defaults to \"train\".\n",
    "        batch_size (int, optional): [See pytorch DataLoader]. Defaults to 16.\n",
    "        n_items ([int], optional): [Number of items in on interation, by default number of files in the loaded set \n",
    "                                        but can be smaller (uses subset) or larger (uses file multiple times)]. Defaults to None.\n",
    "        pin_memory (bool, optional): [See pytorch DataLoader]. Defaults to False.\n",
    "        num_processes (int, optional): [See pytorch DataLoader]. Defaults to 1.\n",
    "        drop_last (bool, optional): [See pytorch DataLoader]. Defaults to False.\n",
    "        target_size (int, optional): [New spatial dimension of to which the input data will be transformed]. Defaults to 128.\n",
    "        file_pattern (str, optional): [File pattern of files to load from the base_dir]. Defaults to \"*data.npy\".\n",
    "        do_reshuffle (bool, optional): [See pytorch DataLoader]. Defaults to True.\n",
    "        slice_offset (int, optinal): [Offset for the first dimension to skip the first/last n slices]. Defaults to 0.\n",
    "        caching (bool, optinal): [If True saves the data set list to a file in the base_dir\n",
    "                                    so files don't have to be indexed again and can be more quickly loaded using the cache file]. Defaults to True.\n",
    "    Returns:\n",
    "        [DataLoader]: Pytorch data loader which loads a Numpy2dDataSet\n",
    "    \"\"\"\n",
    "\n",
    "    transforms = get_transforms_2d(target_size=target_size)\n",
    "\n",
    "    data_set = Numpy2dDataSet(\n",
    "        base_dir=base_dir,\n",
    "        mode=mode,\n",
    "        n_items=n_items,\n",
    "        file_pattern=file_pattern,\n",
    "        slice_offset=slice_offset,\n",
    "        caching=caching,\n",
    "        transforms=transforms,\n",
    "    )\n",
    "\n",
    "    data_loader = DataLoader(\n",
    "        data_set,\n",
    "        batch_size=batch_size,\n",
    "        shuffle=do_reshuffle,\n",
    "        num_workers=num_processes,\n",
    "        pin_memory=pin_memory,\n",
    "        drop_last=drop_last,\n",
    "    )\n",
    "    return data_loader\n",
    "\n",
    "\n",
    "def get_numpy3d_dataset(\n",
    "    base_dir,\n",
    "    mode=\"train\",\n",
    "    batch_size=16,\n",
    "    n_items=None,\n",
    "    pin_memory=False,\n",
    "    num_processes=1,\n",
    "    drop_last=False,\n",
    "    target_size=128,\n",
    "    file_pattern=\"*data.npy\",\n",
    "    do_reshuffle=False,\n",
    "):\n",
    "    \"\"\"Returns a Pytorch data loader which loads a Numpy3dDataSet, i.e. 3D Numpy arrays from a directory.\n",
    "    Args:\n",
    "        base_dir ([str]): [Directory in which the npy files are.]\n",
    "        mode (str, optional): [train or val, loads the first 90% for train and 10% for val]. Defaults to \"train\".\n",
    "        batch_size (int, optional): [See pytorch DataLoader]. Defaults to 16.\n",
    "        n_items ([int], optional): [Number of items in on interation, by default number of files in the loaded set \n",
    "                                        but can be smaller (uses subset) or larger (uses file multiple times)]. Defaults to None.\n",
    "        pin_memory (bool, optional): [See pytorch DataLoader]. Defaults to False.\n",
    "        num_processes (int, optional): [See pytorch DataLoader]. Defaults to 1.\n",
    "        drop_last (bool, optional): [See pytorch DataLoader]. Defaults to False.\n",
    "        target_size (int, optional): [New spatial dimension of to which the input data will be transformed]. Defaults to 128.\n",
    "        file_pattern (str, optional): [File pattern of files to load from the base_dir]. Defaults to \"*data.npy\".\n",
    "        do_reshuffle (bool, optional): [See pytorch DataLoader]. Defaults to True.\n",
    "    Returns:\n",
    "        [DataLoader]: Pytorch data loader which loads a Numpy3dDataSet\n",
    "    \"\"\"\n",
    "\n",
    "    transforms = get_transforms_3d(target_size=target_size)\n",
    "\n",
    "    data_set = Numpy3dDataSet(\n",
    "        base_dir=base_dir, mode=mode, n_items=n_items, file_pattern=file_pattern, transforms=transforms,\n",
    "    )\n",
    "\n",
    "    data_loader = DataLoader(\n",
    "        data_set,\n",
    "        batch_size=batch_size,\n",
    "        #shuffle=do_reshuffle,\n",
    "        num_workers=num_processes,\n",
    "        pin_memory=pin_memory,\n",
    "        drop_last=drop_last,\n",
    "    )\n",
    "    return data_loader"
   ]
  },
  {
   "cell_type": "code",
   "execution_count": 10,
   "metadata": {},
   "outputs": [],
   "source": [
    "ds = Numpy3dDataSet(\"data/trainA\",file_pattern=\"*.jpeg\")"
   ]
  },
  {
   "cell_type": "code",
   "execution_count": 11,
   "metadata": {},
   "outputs": [
    {
     "name": "stdout",
     "output_type": "stream",
     "text": [
      "data/trainA\\crossmoda2021_ldn_2_ceT1_10.jpeg\n"
     ]
    },
    {
     "ename": "ValueError",
     "evalue": "Cannot load file containing pickled data when allow_pickle=False",
     "output_type": "error",
     "traceback": [
      "\u001b[1;31m---------------------------------------------------------------------------\u001b[0m",
      "\u001b[1;31mValueError\u001b[0m                                Traceback (most recent call last)",
      "\u001b[1;32m~\\AppData\\Local\\Temp/ipykernel_4080/2276104621.py\u001b[0m in \u001b[0;36m<module>\u001b[1;34m\u001b[0m\n\u001b[1;32m----> 1\u001b[1;33m \u001b[0mprint\u001b[0m\u001b[1;33m(\u001b[0m\u001b[0mds\u001b[0m\u001b[1;33m[\u001b[0m\u001b[1;36m0\u001b[0m\u001b[1;33m]\u001b[0m\u001b[1;33m)\u001b[0m\u001b[1;33m\u001b[0m\u001b[1;33m\u001b[0m\u001b[0m\n\u001b[0m\u001b[0;32m      2\u001b[0m \u001b[1;31m# npee = np.array(ds[24])\u001b[0m\u001b[1;33m\u001b[0m\u001b[1;33m\u001b[0m\u001b[1;33m\u001b[0m\u001b[0m\n\u001b[0;32m      3\u001b[0m \u001b[1;31m# x = np.moveaxis(npee, 0,-1)\u001b[0m\u001b[1;33m\u001b[0m\u001b[1;33m\u001b[0m\u001b[1;33m\u001b[0m\u001b[0m\n\u001b[0;32m      4\u001b[0m \u001b[1;31m# #x.shape\u001b[0m\u001b[1;33m\u001b[0m\u001b[1;33m\u001b[0m\u001b[1;33m\u001b[0m\u001b[0m\n\u001b[0;32m      5\u001b[0m \u001b[1;33m\u001b[0m\u001b[0m\n",
      "\u001b[1;32mc:\\Users\\HP\\Desktop\\AppDL\\crossmoda-challenge\\datasets\\numpydatasets.py\u001b[0m in \u001b[0;36m__getitem__\u001b[1;34m(self, item)\u001b[0m\n\u001b[0;32m    172\u001b[0m         \u001b[1;31m#idx = item % self.data_len\u001b[0m\u001b[1;33m\u001b[0m\u001b[1;33m\u001b[0m\u001b[1;33m\u001b[0m\u001b[0m\n\u001b[0;32m    173\u001b[0m         \u001b[0midx\u001b[0m \u001b[1;33m=\u001b[0m \u001b[0mitem\u001b[0m\u001b[1;33m\u001b[0m\u001b[1;33m\u001b[0m\u001b[0m\n\u001b[1;32m--> 174\u001b[1;33m         \u001b[0mdata_smpl\u001b[0m \u001b[1;33m=\u001b[0m \u001b[0mself\u001b[0m\u001b[1;33m.\u001b[0m\u001b[0mget_data_by_idx\u001b[0m\u001b[1;33m(\u001b[0m\u001b[0midx\u001b[0m\u001b[1;33m)\u001b[0m\u001b[1;33m\u001b[0m\u001b[1;33m\u001b[0m\u001b[0m\n\u001b[0m\u001b[0;32m    175\u001b[0m \u001b[1;33m\u001b[0m\u001b[0m\n\u001b[0;32m    176\u001b[0m         \u001b[1;31m# if self.transforms is not None:\u001b[0m\u001b[1;33m\u001b[0m\u001b[1;33m\u001b[0m\u001b[1;33m\u001b[0m\u001b[0m\n",
      "\u001b[1;32mc:\\Users\\HP\\Desktop\\AppDL\\crossmoda-challenge\\datasets\\numpydatasets.py\u001b[0m in \u001b[0;36mget_data_by_idx\u001b[1;34m(self, idx)\u001b[0m\n\u001b[0;32m    189\u001b[0m         \u001b[0mfn_name\u001b[0m \u001b[1;33m=\u001b[0m \u001b[0mself\u001b[0m\u001b[1;33m.\u001b[0m\u001b[0mitems\u001b[0m\u001b[1;33m[\u001b[0m\u001b[0midx\u001b[0m\u001b[1;33m]\u001b[0m\u001b[1;33m\u001b[0m\u001b[1;33m\u001b[0m\u001b[0m\n\u001b[0;32m    190\u001b[0m         \u001b[0mprint\u001b[0m\u001b[1;33m(\u001b[0m\u001b[0mfn_name\u001b[0m\u001b[1;33m)\u001b[0m\u001b[1;33m\u001b[0m\u001b[1;33m\u001b[0m\u001b[0m\n\u001b[1;32m--> 191\u001b[1;33m         \u001b[0mnumpy_array\u001b[0m \u001b[1;33m=\u001b[0m \u001b[0mnp\u001b[0m\u001b[1;33m.\u001b[0m\u001b[0mload\u001b[0m\u001b[1;33m(\u001b[0m\u001b[0mfn_name\u001b[0m\u001b[1;33m)\u001b[0m\u001b[1;33m\u001b[0m\u001b[1;33m\u001b[0m\u001b[0m\n\u001b[0m\u001b[0;32m    192\u001b[0m         \u001b[1;32mreturn\u001b[0m \u001b[0mnumpy_array\u001b[0m\u001b[1;33m.\u001b[0m\u001b[0mastype\u001b[0m\u001b[1;33m(\u001b[0m\u001b[0mnp\u001b[0m\u001b[1;33m.\u001b[0m\u001b[0mfloat32\u001b[0m\u001b[1;33m)\u001b[0m\u001b[1;33m[\u001b[0m\u001b[1;32mNone\u001b[0m\u001b[1;33m]\u001b[0m\u001b[1;33m\u001b[0m\u001b[1;33m\u001b[0m\u001b[0m\n\u001b[0;32m    193\u001b[0m \u001b[1;33m\u001b[0m\u001b[0m\n",
      "\u001b[1;32mc:\\Users\\HP\\anaconda3\\envs\\uqdl\\lib\\site-packages\\numpy\\lib\\npyio.py\u001b[0m in \u001b[0;36mload\u001b[1;34m(file, mmap_mode, allow_pickle, fix_imports, encoding)\u001b[0m\n\u001b[0;32m    443\u001b[0m             \u001b[1;31m# Try a pickle\u001b[0m\u001b[1;33m\u001b[0m\u001b[1;33m\u001b[0m\u001b[1;33m\u001b[0m\u001b[0m\n\u001b[0;32m    444\u001b[0m             \u001b[1;32mif\u001b[0m \u001b[1;32mnot\u001b[0m \u001b[0mallow_pickle\u001b[0m\u001b[1;33m:\u001b[0m\u001b[1;33m\u001b[0m\u001b[1;33m\u001b[0m\u001b[0m\n\u001b[1;32m--> 445\u001b[1;33m                 raise ValueError(\"Cannot load file containing pickled data \"\n\u001b[0m\u001b[0;32m    446\u001b[0m                                  \"when allow_pickle=False\")\n\u001b[0;32m    447\u001b[0m             \u001b[1;32mtry\u001b[0m\u001b[1;33m:\u001b[0m\u001b[1;33m\u001b[0m\u001b[1;33m\u001b[0m\u001b[0m\n",
      "\u001b[1;31mValueError\u001b[0m: Cannot load file containing pickled data when allow_pickle=False"
     ]
    }
   ],
   "source": [
    "print(ds[0])\n",
    "# npee = np.array(ds[24])\n",
    "# x = np.moveaxis(npee, 0,-1)\n",
    "# #x.shape\n",
    "\n",
    "# from matplotlib import pyplot as plt\n",
    "# plt.imshow(x, interpolation='nearest')\n",
    "# plt.show()"
   ]
  },
  {
   "cell_type": "code",
   "execution_count": 4,
   "metadata": {},
   "outputs": [],
   "source": [
    "\n",
    "ds = CycleGANDataset('data',transform = transforms.Compose([transforms.Grayscale(num_output_channels=1),transforms.CenterCrop((180,225)),transforms.ToTensor(),transforms.Normalize(0.0085,0.2753)]))"
   ]
  },
  {
   "cell_type": "code",
   "execution_count": 9,
   "metadata": {},
   "outputs": [
    {
     "data": {
      "text/plain": [
       "(torch.Size([1, 180, 225]), torch.Size([256, 256, 120]))"
      ]
     },
     "execution_count": 9,
     "metadata": {},
     "output_type": "execute_result"
    }
   ],
   "source": [
    "ds[10]['image'].shape, ds[10]['label'].shape"
   ]
  },
  {
   "cell_type": "code",
   "execution_count": 38,
   "metadata": {},
   "outputs": [],
   "source": [
    "dl = DataLoader(ds, batch_size=1)\n"
   ]
  },
  {
   "cell_type": "code",
   "execution_count": 50,
   "metadata": {},
   "outputs": [
    {
     "data": {
      "text/plain": [
       "tensor([[[[0., 0., 0.,  ..., 0., 0., 0.],\n",
       "          [0., 0., 0.,  ..., 0., 0., 0.],\n",
       "          [0., 0., 0.,  ..., 0., 0., 0.],\n",
       "          ...,\n",
       "          [0., 0., 0.,  ..., 0., 0., 0.],\n",
       "          [0., 0., 0.,  ..., 0., 0., 0.],\n",
       "          [0., 0., 0.,  ..., 0., 0., 0.]],\n",
       "\n",
       "         [[0., 0., 0.,  ..., 0., 0., 0.],\n",
       "          [0., 0., 0.,  ..., 0., 0., 0.],\n",
       "          [0., 0., 0.,  ..., 0., 0., 0.],\n",
       "          ...,\n",
       "          [0., 0., 0.,  ..., 0., 0., 0.],\n",
       "          [0., 0., 0.,  ..., 0., 0., 0.],\n",
       "          [0., 0., 0.,  ..., 0., 0., 0.]],\n",
       "\n",
       "         [[0., 0., 0.,  ..., 0., 0., 0.],\n",
       "          [0., 0., 0.,  ..., 0., 0., 0.],\n",
       "          [0., 0., 0.,  ..., 0., 0., 0.],\n",
       "          ...,\n",
       "          [0., 0., 0.,  ..., 0., 0., 0.],\n",
       "          [0., 0., 0.,  ..., 0., 0., 0.],\n",
       "          [0., 0., 0.,  ..., 0., 0., 0.]],\n",
       "\n",
       "         ...,\n",
       "\n",
       "         [[0., 0., 0.,  ..., 0., 0., 0.],\n",
       "          [0., 0., 0.,  ..., 0., 0., 0.],\n",
       "          [0., 0., 0.,  ..., 0., 0., 0.],\n",
       "          ...,\n",
       "          [0., 0., 0.,  ..., 0., 0., 0.],\n",
       "          [0., 0., 0.,  ..., 0., 0., 0.],\n",
       "          [0., 0., 0.,  ..., 0., 0., 0.]],\n",
       "\n",
       "         [[0., 0., 0.,  ..., 0., 0., 0.],\n",
       "          [0., 0., 0.,  ..., 0., 0., 0.],\n",
       "          [0., 0., 0.,  ..., 0., 0., 0.],\n",
       "          ...,\n",
       "          [0., 0., 0.,  ..., 0., 0., 0.],\n",
       "          [0., 0., 0.,  ..., 0., 0., 0.],\n",
       "          [0., 0., 0.,  ..., 0., 0., 0.]],\n",
       "\n",
       "         [[0., 0., 0.,  ..., 0., 0., 0.],\n",
       "          [0., 0., 0.,  ..., 0., 0., 0.],\n",
       "          [0., 0., 0.,  ..., 0., 0., 0.],\n",
       "          ...,\n",
       "          [0., 0., 0.,  ..., 0., 0., 0.],\n",
       "          [0., 0., 0.,  ..., 0., 0., 0.],\n",
       "          [0., 0., 0.,  ..., 0., 0., 0.]]]], dtype=torch.float64)"
      ]
     },
     "execution_count": 50,
     "metadata": {},
     "output_type": "execute_result"
    }
   ],
   "source": [
    "ex = next(iter(dl))\n",
    "img = ex['label']\n",
    "img"
   ]
  },
  {
   "cell_type": "code",
   "execution_count": 6,
   "metadata": {},
   "outputs": [
    {
     "data": {
      "image/png": "[encoded data removed]",
      "text/plain": [
       "<PIL.Image.Image image mode=L size=225x180 at 0x1F218C02DF0>"
      ]
     },
     "execution_count": 6,
     "metadata": {},
     "output_type": "execute_result"
    }
   ],
   "source": [
    "import PIL\n",
    "PIL.Image.fromarray((img * 255).astype(np.uint8))"
   ]
  },
  {
   "cell_type": "code",
   "execution_count": 123,
   "metadata": {},
   "outputs": [],
   "source": [
    "mean = 0.0\n",
    "meansq = 0.0\n",
    "count = 0\n",
    "from functools import reduce\n",
    "for index, data in enumerate(dl):\n",
    "    #mean= reduce((lambda x, y: x + y), data)\n",
    "    mean = data.sum()\n",
    "    #inter = reduce((lambda x, y: x**2 + y), data)\n",
    "    meansq = meansq + (data**2).sum()\n",
    "    count += np.prod(data.shape)"
   ]
  },
  {
   "cell_type": "code",
   "execution_count": 124,
   "metadata": {},
   "outputs": [],
   "source": [
    "total_mean = mean/count\n",
    "total_var = (meansq/count) - (total_mean**2)\n",
    "total_std = torch.sqrt(total_var)"
   ]
  },
  {
   "cell_type": "code",
   "execution_count": 125,
   "metadata": {},
   "outputs": [
    {
     "data": {
      "text/plain": [
       "(tensor(0.0081), tensor(0.0758), tensor(0.2753))"
      ]
     },
     "execution_count": 125,
     "metadata": {},
     "output_type": "execute_result"
    }
   ],
   "source": [
    "total_mean, total_var, total_std"
   ]
  }
 ],
 "metadata": {
  "kernelspec": {
   "display_name": "Python 3.8.3 ('uqdl')",
   "language": "python",
   "name": "python3"
  },
  "language_info": {
   "codemirror_mode": {
    "name": "ipython",
    "version": 3
   },
   "file_extension": ".py",
   "mimetype": "text/x-python",
   "name": "python",
   "nbconvert_exporter": "python",
   "pygments_lexer": "ipython3",
   "version": "3.8.3"
  },
  "orig_nbformat": 4,
  "vscode": {
   "interpreter": {
    "hash": "c764c3311b97f6e5910658da22a6fb9fd9ff2faa94a18237546e57a4f156fdc4"
   }
  }
 },
 "nbformat": 4,
 "nbformat_minor": 2
}
