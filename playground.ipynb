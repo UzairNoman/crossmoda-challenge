{
 "cells": [
  {
   "cell_type": "code",
   "execution_count": 19,
   "metadata": {},
   "outputs": [
    {
     "name": "stdout",
     "output_type": "stream",
     "text": [
      "The autoreload extension is already loaded. To reload it, use:\n",
      "  %reload_ext autoreload\n",
      "(384, 384, 40)\n",
      "[1. 1. 1. ... 1. 1. 1.]\n",
      "16\n",
      "17\n",
      "18\n",
      "19\n",
      "20\n",
      "21\n",
      "22\n",
      "23\n",
      "24\n",
      "25\n",
      "26\n",
      "27\n",
      "28\n",
      "29\n"
     ]
    },
    {
     "data": {
      "image/png": "[encoded data removed]",
      "text/plain": [
       "<Figure size 432x288 with 1 Axes>"
      ]
     },
     "metadata": {
      "needs_background": "light"
     },
     "output_type": "display_data"
    }
   ],
   "source": [
    "%load_ext autoreload\n",
    "%autoreload 2\n",
    "\n",
    "from skimage import data\n",
    "from matplotlib import pyplot as plt\n",
    "# import napari\n",
    "import numpy as np\n",
    "import PIL\n",
    "import nibabel as nib\n",
    "import torch\n",
    "from utils.helper import read_nii_file\n",
    "from matplotlib import pyplot\n",
    "input_dir = r\"/dss/dsshome1/lxc09/ra49tad2/data/crossmoda2022_training/ST_labels_Task001/crossmoda2021_ldn_107_Label.nii.gz\"\n",
    "\n",
    "res = nib.load(f'{input_dir}')\n",
    "np_data = res.get_fdata()\n",
    "\n",
    "img_dir = r\"/dss/dsshome1/lxc09/ra49tad2/data/crossmoda2022_training/ST_labels_Task001/crossmoda2021_ldn_110_Label.nii.gz\"\n",
    "res_img = nib.load(f'{img_dir}')\n",
    "np_data_img = res_img.get_fdata()\n",
    "\n",
    "anw = np.array(res)\n",
    "print(res.shape)\n",
    "# print(res_img.shape)\n",
    "torch.set_printoptions(profile=\"full\")\n",
    "\n",
    "arr = np_data[:,:,18]\n",
    "arr_img = np_data_img[:,:,18]\n",
    "\n",
    "print(np_data[np_data > 0])\n",
    "\n",
    "for i in range(np_data.shape[2]):\n",
    "    slice = np_data[:,:,i]\n",
    "    if slice[slice > 0].any():\n",
    "        print(i)\n",
    "\n",
    "\n",
    "\n",
    "plt.imshow(arr, cmap='gray')\n",
    "\n",
    "plt.show()\n",
    "\n",
    "\n",
    "# plt.figure()\n",
    "# plt.subplot(1,2,1)\n",
    "# plt.imshow(arr_img, 'gray', interpolation='none')\n",
    "# plt.subplot(1,2,2)\n",
    "# plt.imshow(arr_img, 'gray', interpolation='none')\n",
    "# plt.imshow(arr, 'jet', interpolation='none', alpha=0.7)\n",
    "# plt.show()\n",
    "\n",
    "\n"
   ]
  },
  {
   "cell_type": "code",
   "execution_count": 7,
   "metadata": {},
   "outputs": [
    {
     "name": "stdout",
     "output_type": "stream",
     "text": [
      "247/274\n"
     ]
    }
   ],
   "source": [
    "import nibabel as nib\n",
    "\n",
    "complete_input_folder = sorted(os.listdir('/dss/dsshome1/lxc09/ra49tad2/data/crossmoda2022_training/ST_labels_Task007/'))\n",
    "cnt = 0\n",
    "tot = 0\n",
    "for fname in complete_input_folder:\n",
    "        tot += 1\n",
    "        res = nib.load(f'/dss/dsshome1/lxc09/ra49tad2/data/crossmoda2022_training/ST_labels_Task007/{fname}')\n",
    "        np_data = res.get_fdata()\n",
    "        if(np_data[np_data > 0].any()):\n",
    "                cnt += 1\n",
    "print(f'{cnt}/{tot}')"
   ]
  },
  {
   "cell_type": "code",
   "execution_count": null,
   "metadata": {},
   "outputs": [],
   "source": [
    "%load_ext autoreload\n",
    "%autoreload 2\n",
    "\n",
    "import numpy as np\n",
    "from batchgenerators.utilities.file_and_folder_operations import *\n",
    "from nnunet.dataset_conversion.utils import generate_dataset_json\n",
    "from nnunet.paths import nnUNet_raw_data, preprocessing_output_dir\n",
    "from nnunet.utilities.file_conversions import convert_2d_image_to_nifti\n",
    "import os\n",
    "\n",
    "task_name = 'Task009_Final'\n",
    "target_base = join('/dss/dssmcmlfs01/pn69za/pn69za-dss-0002/ra49tad2/nnunet_folder/nnUNet_raw_data', task_name)\n",
    "target_imagesTr = join(target_base, \"imagesTr\").replace(\"\\r\", \"\")\n",
    "target_imagesTs = join(target_base, \"imagesTs\").replace(\"\\r\", \"\")\n",
    "target_labelsTs = join(target_base, \"labelsTs\").replace(\"\\r\", \"\")\n",
    "target_labelsTr = join(target_base, \"labelsTr\").replace(\"\\r\", \"\")\n",
    "\n",
    "# print(os.path.join(nnUNet_raw_data, task_name))\n",
    "generate_dataset_json(join(target_base, 'dataset.json').replace(\"\\r\", \"\"), target_imagesTr, target_imagesTs, ('hrT2',),\n",
    "                          labels={0: 'background', 1: 'VS', 2: 'Cochlea'}, dataset_name=task_name, license='None')"
   ]
  }
 ],
 "metadata": {
  "kernelspec": {
   "display_name": "Python 3.8.10 64-bit",
   "language": "python",
   "name": "python3"
  },
  "language_info": {
   "codemirror_mode": {
    "name": "ipython",
    "version": 3
   },
   "file_extension": ".py",
   "mimetype": "text/x-python",
   "name": "python",
   "nbconvert_exporter": "python",
   "pygments_lexer": "ipython3",
   "version": "3.8.10"
  },
  "orig_nbformat": 4,
  "vscode": {
   "interpreter": {
    "hash": "767d51c1340bd893661ea55ea3124f6de3c7a262a8b4abca0554b478b1e2ff90"
   }
  }
 },
 "nbformat": 4,
 "nbformat_minor": 2
}
